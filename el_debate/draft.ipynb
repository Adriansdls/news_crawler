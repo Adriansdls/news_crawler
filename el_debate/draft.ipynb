{
 "cells": [
  {
   "cell_type": "code",
   "execution_count": 1,
   "metadata": {},
   "outputs": [],
   "source": [
    "import requests\n",
    "import pandas as pd\n",
    "from bs4 import BeautifulSoup\n",
    "from selenium import webdriver\n",
    "from datetime import date\n",
    "from datetime import datetime\n",
    "import re\n",
    "from pandas.errors import ParserError"
   ]
  },
  {
   "cell_type": "code",
   "execution_count": 13,
   "metadata": {},
   "outputs": [],
   "source": [
    "el_debate = pd.read_csv(\"data/el_debate.csv\")\n",
    "el_debate.drop(\"Unnamed: 0\",axis=1,inplace=True)\n",
    "el_debate.to_csv(\"data/bups/el_debate_links_bup.csv\")\n",
    "old_links = el_debate.url.to_list()"
   ]
  },
  {
   "cell_type": "code",
   "execution_count": 32,
   "metadata": {},
   "outputs": [
    {
     "name": "stdout",
     "output_type": "stream",
     "text": [
      "69 new links will be parsed\n"
     ]
    }
   ],
   "source": [
    "new_links = pd.DataFrame(columns=[\"pos\",\"url\",\"crawl_day\"])\n",
    "\n",
    "options = webdriver.ChromeOptions()\n",
    "options.add_argument('--headless')\n",
    "driver = webdriver.Chrome(options=options)\n",
    "\n",
    "url = \"https://www.eldebate.com/\"\n",
    "driver.get(url)\n",
    "\n",
    "page_source = driver.page_source\n",
    "\n",
    "soup = BeautifulSoup(page_source, \"html.parser\") #lxml to be solved\n",
    "\n",
    "articles = soup.find_all(\"article\")\n",
    "\n",
    "for n,article in enumerate(articles):\n",
    "    l = []  \n",
    "    for a in article.findAll(\"a\"):\n",
    "        try:\n",
    "            if a[\"href\"].startswith(\"http\"):\n",
    "                href = a[\"href\"]\n",
    "            else:\n",
    "                try:\n",
    "                    href = \"https://www.eldebate.com{0}\".format(a[\"href\"])\n",
    "                except KeyError:\n",
    "                    continue\n",
    "        except KeyError:\n",
    "            continue\n",
    "    pos = n\n",
    "\n",
    "    l.append([pos,href,date.today()])\n",
    "    df_ = pd.DataFrame(l,columns=[\"pos\",\"url\",\"crawl_day\"])\n",
    "    new_links = pd.concat([new_links,df_],axis=0)\n",
    "\n",
    "new_links.drop_duplicates(inplace=True)\n",
    "new_links.reset_index(inplace=True,drop=True)\n",
    "\n",
    "for col,row in new_links.iterrows():\n",
    "    if row[\"url\"] in old_links:\n",
    "        new_links.drop(col,inplace=True)\n",
    "\n",
    "el_debate = pd.concat([el_debate,new_links],axis=0)\n",
    "el_debate.drop_duplicates(inplace=True)\n",
    "el_debate.reset_index(inplace=True,drop=True)\n",
    "\n",
    "print(\"{0} new links will be parsed\".format(len(new_links)))"
   ]
  },
  {
   "cell_type": "code",
   "execution_count": 33,
   "metadata": {},
   "outputs": [],
   "source": [
    "df_full = pd.DataFrame(columns=[\"tags\",\"tag\",\"keywords\",\"url\",\"seccion\",\"pos\",\"date\",\"title\",\"sub\",\"author\",\"text\",\"crawl_day\"])\n",
    "\n",
    "for col,row in new_links.iterrows():\n",
    "    l=[]\n",
    "    url = row[\"url\"]\n",
    "    if url.split(\"/\")[3] != \"autor\":\n",
    "        response = requests.get(url)\n",
    "        soup = BeautifulSoup(response.text, \"html.parser\")\n",
    "\n",
    "        head = soup.find(\"head\")\n",
    "        seccion = soup.find(\"meta\",property=\"article:section\")\n",
    "        title = soup.find(\"meta\",property=\"og:title\")\n",
    "        title = title[\"content\"]\n",
    "        seccion = seccion[\"content\"]\n",
    "\n",
    "        for i in head.find_all(\"meta\"):\n",
    "            try:\n",
    "                if i[\"name\"] == \"date\":\n",
    "                    fecha = i[\"content\"]\n",
    "                elif i[\"name\"] == \"Keywords\":\n",
    "                    keywords = i[\"content\"]\n",
    "                elif i[\"name\"] == \"author\":\n",
    "                    author = i[\"content\"]\n",
    "                elif i[\"name\"] == \"article:tag\":\n",
    "                    tag = i[\"content\"]\n",
    "            \n",
    "            except KeyError:\n",
    "                pass\n",
    "\n",
    "        try:\n",
    "            sub = soup.find(\"div\",class_=\"c-detail__subtitle\").text\n",
    "        except AttributeError:\n",
    "            try:\n",
    "                sub = soup.find(\"h2\",class_=\"c-detail__subtitle\").find(\"h2\").text\n",
    "            except AttributeError:\n",
    "                sub = \"Nan\"\n",
    "        \n",
    "        text = []\n",
    "        x = soup.find_all(\"div\",class_=\"paragraph\")\n",
    "        for i in x:\n",
    "            text.append(i.text)\n",
    "        text = \" \".join(text)\n",
    "        \n",
    "        temas = []\n",
    "        x = soup.find_all(\"li\",class_=\"c-detail__tags__item\")\n",
    "        for i in x:\n",
    "            temas.append(i.text.replace(\"\\n\",\"\"))\n",
    "    \n",
    "        l.append([temas,tag,keywords,row[\"url\"],seccion,row[\"pos\"], fecha, title, sub, author, text,date.today()])\n",
    "        df_ = pd.DataFrame(l,columns=[\"tags\",\"tag\",\"keywords\",\"url\",\"seccion\",\"pos\",\"date\",\"title\",\"sub\",\"author\",\"text\",\"crawl_day\"])\n",
    "        df_full = pd.concat([df_full,df_], axis=0)\n",
    "    else:\n",
    "        pass\n",
    "\n",
    "df_full.url.drop_duplicates(inplace=True)"
   ]
  },
  {
   "cell_type": "code",
   "execution_count": 17,
   "metadata": {},
   "outputs": [],
   "source": [
    "df_el_debate = pd.read_csv(\"data/el_debate_full.csv\")\n",
    "df_el_debate.drop(\"Unnamed: 0\",axis=1,inplace=True)\n",
    "df_el_debate.reset_index(inplace=True,drop=True)\n",
    "df_el_debate.to_csv(\"data/bups/el_debate_full_bup.csv\")\n",
    "\n",
    "df_el_debate = pd.concat([df_el_debate,df_full],axis=0)\n",
    "df_el_debate.reset_index(inplace=True,drop=True)\n",
    "df_el_debate.to_csv(\"data/el_debate_full.csv\")\n",
    "\n",
    "el_debate.to_csv(\"data/el_debate.csv\")"
   ]
  }
 ],
 "metadata": {
  "kernelspec": {
   "display_name": "Python 3.10.4 ('leads')",
   "language": "python",
   "name": "python3"
  },
  "language_info": {
   "codemirror_mode": {
    "name": "ipython",
    "version": 3
   },
   "file_extension": ".py",
   "mimetype": "text/x-python",
   "name": "python",
   "nbconvert_exporter": "python",
   "pygments_lexer": "ipython3",
   "version": "3.10.4"
  },
  "orig_nbformat": 4,
  "vscode": {
   "interpreter": {
    "hash": "618d3f638ea503cbbee3308cf1918aa542d28a00dc1a5419a264ab2d9a576c6c"
   }
  }
 },
 "nbformat": 4,
 "nbformat_minor": 2
}
