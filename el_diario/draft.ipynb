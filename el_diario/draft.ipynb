{
 "cells": [
  {
   "cell_type": "code",
   "execution_count": 11,
   "metadata": {},
   "outputs": [],
   "source": [
    "import requests\n",
    "import pandas as pd\n",
    "from bs4 import BeautifulSoup\n",
    "from selenium import webdriver\n",
    "from datetime import date\n",
    "from datetime import datetime\n",
    "import re"
   ]
  },
  {
   "cell_type": "code",
   "execution_count": 12,
   "metadata": {},
   "outputs": [],
   "source": [
    "el_diario = pd.read_csv(\"el_diario.csv\")\n",
    "el_diario.drop(\"Unnamed: 0\",axis=1,inplace=True)\n",
    "el_diario.to_csv(\"bups/el_diario_links_bup.csv\")\n",
    "old_links = el_diario.url.to_list()"
   ]
  },
  {
   "cell_type": "code",
   "execution_count": 13,
   "metadata": {},
   "outputs": [
    {
     "name": "stderr",
     "output_type": "stream",
     "text": [
      "/var/folders/6g/vz95ncc10qb5p6zp51qtwbc40000gn/T/ipykernel_40826/2916362808.py:5: DeprecationWarning: use options instead of chrome_options\n",
      "  driver = webdriver.Chrome(chrome_options=options)\n"
     ]
    },
    {
     "name": "stdout",
     "output_type": "stream",
     "text": [
      "2 new links will be parsed\n"
     ]
    }
   ],
   "source": [
    "new_links = pd.DataFrame(columns=[\"seccion\",\"titulo\",\"url\",\"cmp\",\"idx\",\"dominio\",\"crawl_day\"])\n",
    "\n",
    "options = webdriver.ChromeOptions()\n",
    "options.add_argument('--headless')\n",
    "driver = webdriver.Chrome(chrome_options=options)\n",
    "\n",
    "url = \"https://www.eldiario.es/\"\n",
    "driver.get(url)\n",
    "\n",
    "page_source = driver.page_source\n",
    "\n",
    "soup = BeautifulSoup(page_source, \"lxml\")\n",
    "\n",
    "tags = soup.find_all(\"h2\", {\"class\": \"ni-title\"})\n",
    "errors=[]\n",
    "\n",
    "for i in tags:\n",
    "    l=[]\n",
    "\n",
    "    i.a[\"href\"]\n",
    "    cmp = i.a[\"cmp-ltrk\"]\n",
    "    idx = i.a[\"cmp-ltrk-idx\"]\n",
    "    href = i.a[\"href\"]\n",
    "    if href.startswith(\"http\"):\n",
    "        link = href\n",
    "        dominio = href.split(\"/\")[2]\n",
    "    else:\n",
    "        link = \"https://www.eldiario.es{0}\".format(i.a[\"href\"])\n",
    "        dominio = \"www.eldiario.es\"\n",
    "    titulo = i.text\n",
    "    seccion = i.a[\"href\"].split(\"/\")[1]\n",
    "    \n",
    "    l.append([seccion,titulo,link,cmp,idx,dominio,date.today()])\n",
    "    df_ = pd.DataFrame(l,columns=[\"seccion\",\"titulo\",\"url\",\"cmp\",\"idx\",\"dominio\",\"crawl_day\"])\n",
    "    new_links = pd.concat([new_links,df_],axis=0)\n",
    "\n",
    "new_links = new_links[new_links[\"dominio\"] == \"www.eldiario.es\"]\n",
    "new_links.reset_index(inplace=True,drop=True)\n",
    "\n",
    "for col,row in new_links.iterrows():\n",
    "    if row[\"url\"] in old_links:\n",
    "        new_links.drop(col,inplace=True)\n",
    "\n",
    "el_diario = pd.concat([el_diario,new_links],axis=0)\n",
    "el_diario.reset_index(inplace=True,drop=True)\n",
    "el_diario.to_csv(\"el_diario.csv\")\n",
    "print(\"{0} new links will be parsed\".format(len(new_links)))"
   ]
  },
  {
   "cell_type": "code",
   "execution_count": 14,
   "metadata": {},
   "outputs": [],
   "source": [
    "df_full = pd.DataFrame(columns=[\"url\",\"seccion\",\"cmp\",\"idx\",\"date\",\"title\",\"sub\",\"sub_2\",\"authors\",\"text\",\"crawl_day\"])\n",
    "\n",
    "for col,row in new_links.iterrows():\n",
    "    l=[]\n",
    "    url = row[\"url\"]\n",
    "    response = requests.get(url)\n",
    "    soup = BeautifulSoup(response.text, \"html.parser\")\n",
    "\n",
    "    if not \"ultima-hora\" in url.split(\"/\")[4]:\n",
    "\n",
    "        d = soup.find(\"time\",{\"class\": \"date\"})\n",
    "        date = datetime.strptime(d[\"datetime\"], '%Y-%m-%dT%H:%M:%S+02:00').date()\n",
    "\n",
    "        title = soup.find(\"h1\",{\"class\": \"title\"})\n",
    "        title = title.text.replace(\"\\n\",\" \")\n",
    "        title = re.sub(' +', ' ', title)\n",
    "        \n",
    "        try:\n",
    "            ul = soup.find(\"ul\",{\"class\": \"footer\"})\n",
    "            ul = ul.text.replace(\"\\n\",\" \")\n",
    "            ul = re.sub(' +', ' ', ul)\n",
    "            sub = ul.split(\"—  \")[0]\n",
    "            try:\n",
    "                sub_2 = ul.split(\"—\")[1]\n",
    "            except IndexError:\n",
    "                sub_2 = \"no sub_2\"\n",
    "        except AttributeError:\n",
    "            pass\n",
    "        \n",
    "\n",
    "        try:\n",
    "            author = soup.find(\"p\",{\"class\": \"authors\"})\n",
    "            author = author.text.replace(\"\\n\",\" \")\n",
    "        except AttributeError:\n",
    "            try:\n",
    "                author = soup.find(\"a\",{\"class\": \"featured-name\"})\n",
    "                author = author.text.replace(\"\\n\",\" \")\n",
    "            except AttributeError:\n",
    "                pass\n",
    "        t = soup.find_all(\"p\",{\"class\": \"article-text\"})\n",
    "        text = \"\"\n",
    "\n",
    "        for i in t:\n",
    "            text = text + i.text\n",
    "        text = text.replace(\"\\n\",\" \")\n",
    "        text = re.sub(' +', ' ', text)\n",
    "        \n",
    "        l.append([row[\"url\"],row[\"seccion\"],row[\"cmp\"],row[\"idx\"], date, title, sub, sub_2, author, text,date.today()])\n",
    "        df_ = pd.DataFrame(l,columns=[\"url\",\"seccion\",\"cmp\",\"idx\",\"date\",\"title\",\"sub\",\"sub_2\",\"authors\",\"text\",\"crawl_day\"])\n",
    "        df_full = pd.concat([df_full,df_], axis=0)"
   ]
  },
  {
   "cell_type": "code",
   "execution_count": 15,
   "metadata": {},
   "outputs": [],
   "source": [
    "df_el_diario = pd.read_csv(\"el_diario_full.csv\")\n",
    "df_el_diario.drop(\"Unnamed: 0\",axis=1,inplace=True)\n",
    "df_el_diario.reset_index(inplace=True,drop=True)\n",
    "df_el_diario.to_csv(\"bups/el_diario_full_bup.csv\")\n",
    "\n",
    "df_el_diario = pd.concat([df_el_diario,df_full],axis=0)\n",
    "df_el_diario.reset_index(inplace=True,drop=True)\n",
    "df_el_diario.to_csv(\"el_diario_full.csv\")"
   ]
  }
 ],
 "metadata": {
  "kernelspec": {
   "display_name": "Python 3.9.2 64-bit ('3.9.2')",
   "language": "python",
   "name": "python3"
  },
  "language_info": {
   "codemirror_mode": {
    "name": "ipython",
    "version": 3
   },
   "file_extension": ".py",
   "mimetype": "text/x-python",
   "name": "python",
   "nbconvert_exporter": "python",
   "pygments_lexer": "ipython3",
   "version": "3.9.2"
  },
  "orig_nbformat": 4,
  "vscode": {
   "interpreter": {
    "hash": "b811b904950257589ce388ea217a45fff2eefef8ea78197a3b985aa3892aed00"
   }
  }
 },
 "nbformat": 4,
 "nbformat_minor": 2
}
