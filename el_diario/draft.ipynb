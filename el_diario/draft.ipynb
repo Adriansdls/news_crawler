{
 "cells": [
  {
   "cell_type": "code",
   "execution_count": 1,
   "metadata": {},
   "outputs": [],
   "source": [
    "import requests\n",
    "import pandas as pd\n",
    "from bs4 import BeautifulSoup\n",
    "from selenium import webdriver\n",
    "from datetime import date\n",
    "from datetime import datetime\n",
    "import re\n",
    "\n",
    "import gspread\n",
    "from oauth2client.service_account import ServiceAccountCredentials"
   ]
  },
  {
   "cell_type": "code",
   "execution_count": 2,
   "metadata": {},
   "outputs": [],
   "source": [
    "# Connect to Google Sheets\n",
    "scope = ['https://www.googleapis.com/auth/spreadsheets',\n",
    "         \"https://www.googleapis.com/auth/drive\"]\n",
    "\n",
    "credentials = ServiceAccountCredentials.from_json_keyfile_name(\"/Users/adriansanchezdelasierra/projects/news_parser/new_crawler/newspapers-366612-be359318d4f2.json\", scope)\n",
    "client = gspread.authorize(credentials)"
   ]
  },
  {
   "cell_type": "code",
   "execution_count": 18,
   "metadata": {},
   "outputs": [],
   "source": [
    "el_diario_sheet = client.open(\"el_diario\").sheet1\n",
    "el_diario = pd.DataFrame(el_diario_sheet.get_all_records())\n",
    "#el_diario = pd.read_csv(\"data/el_diario.csv\")\n",
    "#el_diario.drop(\"Unnamed: 0\",axis=1,inplace=True)\n",
    "\n",
    "el_diario_bup_sheet = client.open(\"el_diario_links_bup\").sheet1\n",
    "el_diario_bup_sheet.update([el_diario.columns.values.tolist()] + el_diario.values.tolist())\n",
    "\n",
    "el_diario.to_csv(\"data/bups/el_diario_links_bup.csv\")\n",
    "old_links = el_diario.url.to_list()"
   ]
  },
  {
   "cell_type": "code",
   "execution_count": 3,
   "metadata": {},
   "outputs": [
    {
     "name": "stdout",
     "output_type": "stream",
     "text": [
      "54 new links will be parsed\n"
     ]
    }
   ],
   "source": [
    "new_links = pd.DataFrame(columns=[\"seccion\",\"titulo\",\"url\",\"cmp\",\"idx\",\"dominio\",\"crawl_day\"])\n",
    "\n",
    "options = webdriver.ChromeOptions()\n",
    "options.add_argument('--headless')\n",
    "driver = webdriver.Chrome(options=options)\n",
    "\n",
    "url = \"https://www.eldiario.es/\"\n",
    "driver.get(url)\n",
    "\n",
    "page_source = driver.page_source\n",
    "\n",
    "soup = BeautifulSoup(page_source, \"html.parser\") # or lxml\n",
    "\n",
    "tags = soup.find_all(\"h2\", {\"class\": \"ni-title\"})\n",
    "errors=[]\n",
    "\n",
    "for i in tags:\n",
    "    l=[]\n",
    "    \n",
    "    cmp = i.a[\"cmp-ltrk\"]\n",
    "    idx = i.a[\"cmp-ltrk-idx\"]\n",
    "    href = i.a[\"href\"]\n",
    "    if href.startswith(\"http\"):\n",
    "        link = href\n",
    "        dominio = href.split(\"/\")[2]\n",
    "    else:\n",
    "        link = \"https://www.eldiario.es{0}\".format(i.a[\"href\"])\n",
    "        dominio = \"www.eldiario.es\"\n",
    "    titulo = i.text\n",
    "    seccion = i.a[\"href\"].split(\"/\")[1]\n",
    "    \n",
    "    l.append([seccion,titulo,link,cmp,idx,dominio,date.today()])\n",
    "    df_ = pd.DataFrame(l,columns=[\"seccion\",\"titulo\",\"url\",\"cmp\",\"idx\",\"dominio\",\"crawl_day\"])\n",
    "    new_links = pd.concat([new_links,df_],axis=0)\n",
    "\n",
    "new_links = new_links[new_links[\"dominio\"] == \"www.eldiario.es\"]\n",
    "new_links.reset_index(inplace=True,drop=True)\n",
    "\n",
    "for col,row in new_links.iterrows():\n",
    "    if row[\"url\"] in old_links:\n",
    "        new_links.drop(col,inplace=True)\n",
    "\n",
    "el_diario = pd.concat([el_diario,new_links],axis=0)\n",
    "el_diario.reset_index(inplace=True,drop=True)\n",
    "\n",
    "print(\"{0} new links will be parsed\".format(len(new_links)))"
   ]
  },
  {
   "cell_type": "code",
   "execution_count": 8,
   "metadata": {},
   "outputs": [],
   "source": [
    "df_full = pd.DataFrame(columns=[\"url\",\"seccion\",\"cmp\",\"idx\",\"date\",\"title\",\"sub\",\"sub_2\",\"authors\",\"text\",\"crawl_day\"])\n",
    "\n",
    "for col,row in new_links.iterrows():\n",
    "    l=[]\n",
    "    url = row[\"url\"]\n",
    "    response = requests.get(url)\n",
    "    if response.status_code != 404:\n",
    "        soup = BeautifulSoup(response.text, \"html.parser\")\n",
    "\n",
    "        if not \"ultima-hora\" in url.split(\"/\")[4]:\n",
    "            head = soup.find(\"head\")\n",
    "\n",
    "            d = soup.find(\"time\",{\"class\": \"date\"})\n",
    "            try:\n",
    "                date = datetime.strptime(d[\"datetime\"], '%Y-%m-%dT%H:%M:%S+02:00').date()\n",
    "            except ValueError:\n",
    "                date = datetime.strptime(d[\"datetime\"], '%Y-%m-%dT%H:%M:%S+01:00').date()\n",
    "            except TypeError:\n",
    "                continue\n",
    "\n",
    "            title = soup.find(\"h1\",{\"class\": \"title\"})\n",
    "            title = title.text.replace(\"\\n\",\" \")\n",
    "            title = re.sub(' +', ' ', title)\n",
    "            \n",
    "            try:\n",
    "                ul = soup.find(\"ul\",{\"class\": \"footer\"})\n",
    "                ul = ul.text.replace(\"\\n\",\" \")\n",
    "                ul = re.sub(' +', ' ', ul)\n",
    "                sub = ul.split(\"—  \")[0]\n",
    "                try:\n",
    "                    sub_2 = ul.split(\"—\")[1]\n",
    "                except IndexError:\n",
    "                    sub_2 = \"no sub_2\"\n",
    "            except AttributeError:\n",
    "                pass\n",
    "            \n",
    "            try:\n",
    "                author = soup.find(\"p\",{\"class\": \"authors\"})\n",
    "                author = author.text.replace(\"\\n\",\" \")\n",
    "            except AttributeError:\n",
    "                try:\n",
    "                    author = soup.find(\"a\",{\"class\": \"featured-name\"})\n",
    "                    author = author.text.replace(\"\\n\",\" \")\n",
    "                except AttributeError:\n",
    "                    pass\n",
    "            t = soup.find_all(\"p\",{\"class\": \"article-text\"})\n",
    "            text = \"\"\n",
    "\n",
    "            for i in t:\n",
    "                text = text + i.text\n",
    "            text = text.replace(\"\\n\",\" \")\n",
    "            text = re.sub(' +', ' ', text)\n",
    "            \n",
    "            l.append([row[\"url\"],row[\"seccion\"],row[\"cmp\"],row[\"idx\"], date, title, sub, sub_2, author, text,date.today()])\n",
    "            df_ = pd.DataFrame(l,columns=[\"url\",\"seccion\",\"cmp\",\"idx\",\"date\",\"title\",\"sub\",\"sub_2\",\"authors\",\"text\",\"crawl_day\"])\n",
    "            df_full = pd.concat([df_full,df_], axis=0)\n",
    "    else:\n",
    "        pass"
   ]
  },
  {
   "cell_type": "code",
   "execution_count": null,
   "metadata": {},
   "outputs": [],
   "source": [
    "df_full[\"newspaper\"] = \"el diario\"\n",
    "df_full_ = df_full[[\"newspaper\",\"title\",\"text\"]]\n",
    "today_news_sheet = client.open(\"today_news\").sheet1\n",
    "today_news_sheet.update([df_full_.columns.values.tolist()] + df_full_.values.tolist())"
   ]
  },
  {
   "cell_type": "code",
   "execution_count": 27,
   "metadata": {},
   "outputs": [],
   "source": [
    "df_el_diario_sheet = client.open(\"el_diario_full\").sheet1\n",
    "df_el_diario = pd.DataFrame(df_el_diario_sheet.get_all_records())\n",
    "#df_el_diario = pd.read_csv(\"data/el_diario_full.csv\")\n",
    "#df_el_diario.drop(\"Unnamed: 0\",axis=1,inplace=True)\n",
    "df_el_diario.reset_index(inplace=True,drop=True)\n",
    "\n",
    "# ACTUALIZANDO Y EXPORTANDO BACK UP\n",
    "df_el_diario_bup_sheet = client.open(\"el_diario_full_bup\").sheet1\n",
    "df_el_diario_bup_sheet.update([df_el_diario.columns.values.tolist()] + df_el_diario.values.tolist())\n",
    "df_el_diario.to_csv(\"data/bups/el_diario_full_bup.csv\")\n",
    "\n",
    "# SUMANDO NUEVOS REGISTROS AL TOTAL\n",
    "df_el_diario = pd.concat([df_el_diario,df_full],axis=0)\n",
    "df_el_diario.reset_index(inplace=True, drop=True)\n",
    "\n",
    "# EXPORTANDO A DRIVE Y LOCAL\n",
    "df_el_diario_sheet.update([df_el_diario.columns.values.tolist()] + df_el_diario.values.tolist())\n",
    "df_el_diario.to_csv(\"data/el_diario_full.csv\")\n",
    "\n",
    "# ACTUALIZANDO Y EXPORTANDO OLD LINKS\n",
    "el_diario.to_csv(\"data/el_diario.csv\")\n",
    "el_diario_sheet.update([el_diario.columns.values.tolist()] + el_diario.values.tolist())"
   ]
  }
 ],
 "metadata": {
  "kernelspec": {
   "display_name": "Python 3.10.4 ('leads')",
   "language": "python",
   "name": "python3"
  },
  "language_info": {
   "codemirror_mode": {
    "name": "ipython",
    "version": 3
   },
   "file_extension": ".py",
   "mimetype": "text/x-python",
   "name": "python",
   "nbconvert_exporter": "python",
   "pygments_lexer": "ipython3",
   "version": "3.10.4"
  },
  "vscode": {
   "interpreter": {
    "hash": "618d3f638ea503cbbee3308cf1918aa542d28a00dc1a5419a264ab2d9a576c6c"
   }
  }
 },
 "nbformat": 4,
 "nbformat_minor": 2
}
