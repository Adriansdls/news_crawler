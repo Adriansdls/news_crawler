{
 "cells": [
  {
   "cell_type": "code",
   "execution_count": 2,
   "metadata": {},
   "outputs": [],
   "source": [
    "import pandas as pd"
   ]
  },
  {
   "cell_type": "code",
   "execution_count": 57,
   "metadata": {},
   "outputs": [],
   "source": [
    "t = pd.read_csv(\"all_together.csv\")\n",
    "t.to_csv(\"all_together_bup.csv\")"
   ]
  },
  {
   "cell_type": "code",
   "execution_count": 3,
   "metadata": {},
   "outputs": [],
   "source": [
    "diario = pd.read_csv(\"el_diario/data/el_diario_full.csv\")\n",
    "debate = pd.read_csv(\"el_debate/data/el_debate_full.csv\")\n",
    "ser = pd.read_csv(\"cadena_ser/data/cadena_ser_full.csv\")"
   ]
  },
  {
   "cell_type": "code",
   "execution_count": null,
   "metadata": {},
   "outputs": [],
   "source": [
    "ser_ = ser[[\"fecha\",\"seccion\",\"titulo\",\"texto\",\"url\"]]\n",
    "ser_[\"newspaper\"] = \"cadena ser\"\n",
    "debate_ = debate[[\"date\",\"seccion\",\"title\",\"text\",\"url\"]]\n",
    "debate_[\"newspaper\"] = \"el debate\"\n",
    "diario_ = diario[[\"date\",\"seccion\",\"title\",\"text\",\"url\"]]\n",
    "diario_[\"newspaper\"] = \"el diario\"\n",
    "\n",
    "ser_.rename(columns={\"fecha\":\"date\",\"titulo\":\"title\",\"texto\":\"text\"}, inplace=True)"
   ]
  },
  {
   "cell_type": "code",
   "execution_count": 52,
   "metadata": {},
   "outputs": [],
   "source": [
    "tods = pd.concat([ser_,debate_], axis=0)\n",
    "tods = pd.concat([tods,diario_],axis=0)\n",
    "tods.drop_duplicates(inplace=True)\n",
    "tods.reset_index(drop=True,inplace=True)"
   ]
  },
  {
   "cell_type": "code",
   "execution_count": 54,
   "metadata": {},
   "outputs": [],
   "source": [
    "tods.to_csv(\"all_together.csv\")"
   ]
  },
  {
   "cell_type": "code",
   "execution_count": 56,
   "metadata": {},
   "outputs": [
    {
     "name": "stdout",
     "output_type": "stream",
     "text": [
      "0 new links were added\n"
     ]
    }
   ],
   "source": [
    "print(\"{0} new links were added\".format((len(tods) - len(t))))"
   ]
  }
 ],
 "metadata": {
  "kernelspec": {
   "display_name": "Python 3.9.13 ('nlp9')",
   "language": "python",
   "name": "python3"
  },
  "language_info": {
   "codemirror_mode": {
    "name": "ipython",
    "version": 3
   },
   "file_extension": ".py",
   "mimetype": "text/x-python",
   "name": "python",
   "nbconvert_exporter": "python",
   "pygments_lexer": "ipython3",
   "version": "3.9.13"
  },
  "orig_nbformat": 4,
  "vscode": {
   "interpreter": {
    "hash": "ce689191b8addb72ab9a72f283447e12e360307f864ca5aaecf257e479055e60"
   }
  }
 },
 "nbformat": 4,
 "nbformat_minor": 2
}
