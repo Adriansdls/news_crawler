{
 "cells": [
  {
   "cell_type": "code",
   "execution_count": 1,
   "metadata": {},
   "outputs": [],
   "source": [
    "import requests\n",
    "import pandas as pd\n",
    "from bs4 import BeautifulSoup\n",
    "from selenium import webdriver\n",
    "from datetime import date\n",
    "from datetime import datetime\n",
    "import re\n",
    "from pandas.errors import ParserError"
   ]
  },
  {
   "cell_type": "code",
   "execution_count": 2,
   "metadata": {},
   "outputs": [],
   "source": [
    "el_debate = pd.read_csv(\"el_debate.csv\")\n",
    "el_debate.drop(\"Unnamed: 0\",axis=1,inplace=True)\n",
    "el_debate.to_csv(\"bups/el_debate_links_bup.csv\")\n",
    "old_links = el_debate.url.to_list()"
   ]
  },
  {
   "cell_type": "code",
   "execution_count": 3,
   "metadata": {},
   "outputs": [
    {
     "name": "stderr",
     "output_type": "stream",
     "text": [
      "/var/folders/6g/vz95ncc10qb5p6zp51qtwbc40000gn/T/ipykernel_23927/512018477.py:5: DeprecationWarning: use options instead of chrome_options\n",
      "  driver = webdriver.Chrome(chrome_options=options)\n"
     ]
    },
    {
     "name": "stdout",
     "output_type": "stream",
     "text": [
      "16 new links will be parsed\n"
     ]
    }
   ],
   "source": [
    "new_links = pd.DataFrame(columns=[\"pos\",\"url\",\"crawl_day\"])\n",
    "\n",
    "options = webdriver.ChromeOptions()\n",
    "options.add_argument('--headless')\n",
    "driver = webdriver.Chrome(chrome_options=options)\n",
    "\n",
    "url = \"https://www.eldebate.com/\"\n",
    "driver.get(url)\n",
    "\n",
    "page_source = driver.page_source\n",
    "\n",
    "soup = BeautifulSoup(page_source, \"lxml\")\n",
    "\n",
    "articles = soup.find_all(\"article\")\n",
    "\n",
    "for n,article in enumerate(articles):\n",
    "    l = []\n",
    "    for a in article.findAll(\"a\"):\n",
    "        try:\n",
    "            href = \"https://www.eldebate.com{0}\".format(a[\"href\"])\n",
    "        except KeyError:\n",
    "            pass\n",
    "    pos = n\n",
    "\n",
    "    l.append([pos,href,date.today()])\n",
    "    df_ = pd.DataFrame(l,columns=[\"pos\",\"url\",\"crawl_day\"])\n",
    "    new_links = pd.concat([new_links,df_],axis=0)\n",
    "\n",
    "new_links.drop_duplicates(inplace=True)\n",
    "new_links.reset_index(inplace=True,drop=True)\n",
    "\n",
    "for col,row in new_links.iterrows():\n",
    "    if row[\"url\"] in old_links:\n",
    "        new_links.drop(col,inplace=True)\n",
    "\n",
    "el_debate = pd.concat([el_debate,new_links],axis=0)\n",
    "el_debate.drop_duplicates(inplace=True)\n",
    "el_debate.reset_index(inplace=True,drop=True)\n",
    "el_debate.to_csv(\"el_debate.csv\")\n",
    "\n",
    "print(\"{0} new links will be parsed\".format(len(new_links)))"
   ]
  },
  {
   "cell_type": "code",
   "execution_count": 4,
   "metadata": {},
   "outputs": [],
   "source": [
    "df_full = pd.DataFrame(columns=[\"tags\",\"tag\",\"keywords\",\"url\",\"seccion\",\"pos\",\"date\",\"title\",\"sub\",\"author\",\"text\",\"crawl_day\"])\n",
    "\n",
    "for col,row in new_links.iterrows():\n",
    "    l=[]\n",
    "    url = row[\"url\"]\n",
    "    response = requests.get(url)\n",
    "    soup = BeautifulSoup(response.text, \"html.parser\")\n",
    "\n",
    "    head = soup.find(\"head\")\n",
    "    seccion = soup.find(\"meta\",property=\"article:section\")\n",
    "    title = soup.find(\"meta\",property=\"og:title\")\n",
    "    title = title[\"content\"]\n",
    "    seccion = seccion[\"content\"]\n",
    "\n",
    "    for i in head.find_all(\"meta\"):\n",
    "        try:\n",
    "            if i[\"name\"] == \"date\":\n",
    "                fecha = i[\"content\"]\n",
    "            elif i[\"name\"] == \"Keywords\":\n",
    "                keywords = i[\"content\"]\n",
    "            elif i[\"name\"] == \"author\":\n",
    "                author = i[\"content\"]\n",
    "            elif i[\"name\"] == \"article:tag\":\n",
    "                tag = i[\"content\"]\n",
    "        \n",
    "        except KeyError:\n",
    "            pass\n",
    "\n",
    "    try:\n",
    "        sub = soup.find(\"div\",class_=\"c-detail__subtitle\").text\n",
    "    except AttributeError:\n",
    "        try:\n",
    "            sub = soup.find(\"h2\",class_=\"c-detail__subtitle\").find(\"h2\").text\n",
    "        except AttributeError:\n",
    "            sub = \"Nan\"\n",
    "    \n",
    "    text = []\n",
    "    x = soup.find_all(\"div\",class_=\"paragraph\")\n",
    "    for i in x:\n",
    "        text.append(i.text)\n",
    "    text = \" \".join(text)\n",
    "    \n",
    "    temas = []\n",
    "    x = soup.find_all(\"li\",class_=\"c-detail__tags__item\")\n",
    "    for i in x:\n",
    "        temas.append(i.text.replace(\"\\n\",\"\"))\n",
    "    \n",
    "    l.append([temas,tag,keywords,row[\"url\"],seccion,row[\"pos\"], fecha, title, sub, author, text,date.today()])\n",
    "    df_ = pd.DataFrame(l,columns=[\"tags\",\"tag\",\"keywords\",\"url\",\"seccion\",\"pos\",\"date\",\"title\",\"sub\",\"author\",\"text\",\"crawl_day\"])\n",
    "    df_full = pd.concat([df_full,df_], axis=0)\n",
    "\n",
    "df_full.url.drop_duplicates(inplace=True)"
   ]
  },
  {
   "cell_type": "code",
   "execution_count": 6,
   "metadata": {},
   "outputs": [],
   "source": [
    "df_el_debate = pd.read_csv(\"el_debate_full.csv\")\n",
    "df_el_debate.drop(\"Unnamed: 0\",axis=1,inplace=True)\n",
    "df_el_debate.reset_index(inplace=True,drop=True)\n",
    "df_el_debate.to_csv(\"bups/el_debate_full_bup.csv\")\n",
    "\n",
    "df_el_debate = pd.concat([df_el_debate,df_full],axis=0)\n",
    "df_el_debate.reset_index(inplace=True,drop=True)\n",
    "df_el_debate.to_csv(\"el_debate_full.csv\")"
   ]
  }
 ],
 "metadata": {
  "kernelspec": {
   "display_name": "Python 3.9.2 64-bit ('3.9.2')",
   "language": "python",
   "name": "python3"
  },
  "language_info": {
   "codemirror_mode": {
    "name": "ipython",
    "version": 3
   },
   "file_extension": ".py",
   "mimetype": "text/x-python",
   "name": "python",
   "nbconvert_exporter": "python",
   "pygments_lexer": "ipython3",
   "version": "3.9.2"
  },
  "orig_nbformat": 4,
  "vscode": {
   "interpreter": {
    "hash": "b811b904950257589ce388ea217a45fff2eefef8ea78197a3b985aa3892aed00"
   }
  }
 },
 "nbformat": 4,
 "nbformat_minor": 2
}
